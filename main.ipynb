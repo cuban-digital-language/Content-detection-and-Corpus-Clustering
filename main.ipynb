{
 "cells": [
  {
   "cell_type": "code",
   "execution_count": 1,
   "metadata": {},
   "outputs": [
    {
     "name": "stderr",
     "output_type": "stream",
     "text": [
      "/Users/dany/.local/share/virtualenvs/cuba-digital-lang-9Kd57kqM/lib/python3.9/site-packages/tqdm/auto.py:22: TqdmWarning: IProgress not found. Please update jupyter and ipywidgets. See https://ipywidgets.readthedocs.io/en/stable/user_install.html\n",
      "  from .autonotebook import tqdm as notebook_tqdm\n"
     ]
    }
   ],
   "source": [
    "from preprocessing import files_list, doc2vec, save, view_points\n",
    "from k_means import select_clusters\n",
    "from dbscan import metric\n",
    "from sklearn.model_selection import ShuffleSplit"
   ]
  },
  {
   "cell_type": "code",
   "execution_count": 2,
   "metadata": {},
   "outputs": [
    {
     "name": "stdout",
     "output_type": "stream",
     "text": [
      "total 649863\n",
      "split 3899\n"
     ]
    }
   ],
   "source": [
    "files = files_list('tokens')\n",
    "print(\"total\", len(files))\n",
    "split = ShuffleSplit(n_splits=1, test_size=.999)\n",
    "files = [files[index] for index in next(split.split(files))[0]]\n",
    "print('split', len(files))"
   ]
  },
  {
   "cell_type": "code",
   "execution_count": 3,
   "metadata": {},
   "outputs": [
    {
     "name": "stderr",
     "output_type": "stream",
     "text": [
      "[===================================================================] 3899 100%\n"
     ]
    }
   ],
   "source": [
    "v, d = doc2vec(files)\n",
    "# # save(v, d)\n",
    "# view_points(v)"
   ]
  },
  {
   "cell_type": "code",
   "execution_count": 4,
   "metadata": {},
   "outputs": [],
   "source": [
    "# select_clusters(v, 20, 10000, \"k-means++\", 0.0001, verbose = 0)"
   ]
  },
  {
   "cell_type": "code",
   "execution_count": 5,
   "metadata": {},
   "outputs": [],
   "source": [
    "# metric(v)"
   ]
  },
  {
   "cell_type": "code",
   "execution_count": 6,
   "metadata": {},
   "outputs": [
    {
     "name": "stdout",
     "output_type": "stream",
     "text": [
      "### Training ###\n",
      "### PRINT ###\n"
     ]
    },
    {
     "ename": "OverflowError",
     "evalue": "Python int too large to convert to C int",
     "output_type": "error",
     "traceback": [
      "\u001b[0;31m---------------------------------------------------------------------------\u001b[0m",
      "\u001b[0;31mOverflowError\u001b[0m                             Traceback (most recent call last)",
      "\u001b[1;32m/Users/dany/src/school/cuba-digital-lang/content-detection-and-corpus-clustering/main.ipynb Cell 6'\u001b[0m in \u001b[0;36m<cell line: 3>\u001b[0;34m()\u001b[0m\n\u001b[1;32m      <a href='vscode-notebook-cell:/Users/dany/src/school/cuba-digital-lang/content-detection-and-corpus-clustering/main.ipynb#ch0000005?line=0'>1</a>\u001b[0m \u001b[39mfrom\u001b[39;00m \u001b[39magglomerative\u001b[39;00m \u001b[39mimport\u001b[39;00m agglomerative\n\u001b[0;32m----> <a href='vscode-notebook-cell:/Users/dany/src/school/cuba-digital-lang/content-detection-and-corpus-clustering/main.ipynb#ch0000005?line=2'>3</a>\u001b[0m agglomerative(v)\n",
      "File \u001b[0;32m~/src/school/cuba-digital-lang/content-detection-and-corpus-clustering/agglomerative.py:40\u001b[0m, in \u001b[0;36magglomerative\u001b[0;34m(vectors)\u001b[0m\n\u001b[1;32m     38\u001b[0m \u001b[39m# plot the top three levels of the dendrogram\u001b[39;00m\n\u001b[1;32m     39\u001b[0m \u001b[39mprint\u001b[39m(\u001b[39m\"\u001b[39m\u001b[39m### PRINT ###\u001b[39m\u001b[39m\"\u001b[39m)\n\u001b[0;32m---> 40\u001b[0m sys\u001b[39m.\u001b[39;49msetrecursionlimit(\u001b[39m100000000000\u001b[39;49m)\n\u001b[1;32m     41\u001b[0m data \u001b[39m=\u001b[39m plot_dendrogram(model)\n\u001b[1;32m     42\u001b[0m plt\u001b[39m.\u001b[39mxlabel(\u001b[39m\"\u001b[39m\u001b[39mNumber of points in node (or index of point if no parenthesis).\u001b[39m\u001b[39m\"\u001b[39m)\n",
      "\u001b[0;31mOverflowError\u001b[0m: Python int too large to convert to C int"
     ]
    },
    {
     "data": {
      "image/png": "[encoded data removed]",
      "text/plain": [
       "<Figure size 432x288 with 1 Axes>"
      ]
     },
     "metadata": {
      "needs_background": "light"
     },
     "output_type": "display_data"
    }
   ],
   "source": [
    "from agglomerative import agglomerative\n",
    "\n",
    "agglomerative(v)"
   ]
  },
  {
   "cell_type": "code",
   "execution_count": null,
   "metadata": {},
   "outputs": [],
   "source": []
  }
 ],
 "metadata": {
  "kernelspec": {
   "display_name": "cuba-digital-lang",
   "language": "python",
   "name": "cuba-digital-lang"
  },
  "language_info": {
   "codemirror_mode": {
    "name": "ipython",
    "version": 3
   },
   "file_extension": ".py",
   "mimetype": "text/x-python",
   "name": "python",
   "nbconvert_exporter": "python",
   "pygments_lexer": "ipython3",
   "version": "3.9.10"
  },
  "orig_nbformat": 4
 },
 "nbformat": 4,
 "nbformat_minor": 2
}
